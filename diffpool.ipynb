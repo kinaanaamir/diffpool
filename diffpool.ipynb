{
 "cells": [
  {
   "cell_type": "markdown",
   "metadata": {
    "pycharm": {
     "name": "#%% md\n"
    }
   },
   "source": [
    "# Hierarchical Graph Representation Learning with Differentiable Pooling\n",
    "\n",
    "<img src=\"static/diffpool.png\" alt=\"Diffpool\" width=\"800\" />\n",
    "\n",
    "Links to the original paper:\n",
    "* ArXiv: <https://arxiv.org/abs/1806.08804>\n",
    "* Code Repository: <https://github.com/RexYing/diffpool>"
   ]
  },
  {
   "cell_type": "markdown",
   "metadata": {
    "pycharm": {
     "name": "#%% md\n"
    }
   },
   "source": [
    "## Toy Example: 1-Layer Diffpool\n",
    "\n",
    "In the following cells the mathematical formulas of Difffpool are explained with a small example.\n",
    "\n",
    "Consider a small graph with 5 nodes, 5 edges and each node has two features. In this example we use a one layer Diffpool model to reduce this graph to 2 clusters with new aggregated embeddings. As GNNs we use GraphSAGE for both the embedding and pooling models."
   ]
  },
  {
   "cell_type": "code",
   "execution_count": 1,
   "metadata": {
    "pycharm": {
     "name": "#%%\n"
    }
   },
   "outputs": [
    {
     "data": {
      "image/png": "[encoded data removed]",
      "text/plain": [
       "<Figure size 432x288 with 1 Axes>"
      ]
     },
     "metadata": {},
     "output_type": "display_data"
    }
   ],
   "source": [
    "import torch as th\n",
    "import torch.nn as nn\n",
    "import matplotlib.pyplot as plt\n",
    "import networkx as nx\n",
    "import dgl\n",
    "\n",
    "from dgl_layers.model import DiffPool\n",
    "\n",
    "nx_G = nx.Graph()\n",
    "nx_G.add_edges_from([(1, 2), (2, 3), (3, 4), (3, 5), (4, 5)])\n",
    "\n",
    "g = dgl.from_networkx(nx_G)\n",
    "X = th.randn(5, 2)\n",
    "\n",
    "nx.draw(dgl.to_networkx(g))\n",
    "plt.show()"
   ]
  },
  {
   "cell_type": "markdown",
   "metadata": {
    "pycharm": {
     "name": "#%% md\n"
    }
   },
   "source": [
    "### Compute cluster assignments & node embeddings\n",
    "\n",
    "The first step is to compute the cluster assignments and associated embeddings of the aggregated nodes. We simply apply the formulas provided in the paper:\n",
    "\n",
    "\\begin{align*}\n",
    "Z = \\mathrm{GNN}_{\\mathrm{embed}}(A, X) \\\\\n",
    "S = \\mathrm{softmax}(\\mathrm{GNN}_{\\mathrm{pool}}(A, X))\n",
    "\\end{align*}"
   ]
  },
  {
   "cell_type": "code",
   "execution_count": 2,
   "metadata": {
    "pycharm": {
     "name": "#%%\n"
    }
   },
   "outputs": [
    {
     "data": {
      "text/plain": [
       "(tensor([[-1.7326,  0.3896],\n",
       "         [ 0.1142,  1.6053],\n",
       "         [-0.3214, -1.4580],\n",
       "         [ 0.9699, -0.2684],\n",
       "         [ 0.9699, -0.2684]], grad_fn=<NativeBatchNormBackward0>),\n",
       " tensor([[0.4822, 0.5178],\n",
       "         [0.8398, 0.1602],\n",
       "         [0.1732, 0.8268],\n",
       "         [0.4972, 0.5028],\n",
       "         [0.4972, 0.5028]], grad_fn=<SoftmaxBackward0>))"
      ]
     },
     "execution_count": 2,
     "metadata": {},
     "output_type": "execute_result"
    }
   ],
   "source": [
    "from dgl.nn.pytorch import DenseSAGEConv\n",
    "from torch.nn.functional import softmax\n",
    "\n",
    "embed = DenseSAGEConv(2, 2, norm=nn.BatchNorm1d(2))\n",
    "pool = DenseSAGEConv(2, 2, norm=nn.BatchNorm1d(2))\n",
    "\n",
    "A = g.adj().to_dense()\n",
    "Z = embed(A, X)\n",
    "S = softmax(pool(A, X), dim=-1)\n",
    "\n",
    "Z, S"
   ]
  },
  {
   "cell_type": "markdown",
   "metadata": {
    "pycharm": {
     "name": "#%% md\n"
    }
   },
   "source": [
    "### Construct the new representation graph\n",
    "\n",
    "In the second step we now have to construct the new graph. To do so, we first calculate the embeddings $X'$ for each cluster and then the new adjacency matrix $A'$ that connects the clusters.\n",
    "\n",
    "Again, we simply use the formulas from the paper in our example:\n",
    "\n",
    "\\begin{align*}\n",
    "X' = S^T Z \\\\\n",
    "A' = S^T A S\n",
    "\\end{align*}"
   ]
  },
  {
   "cell_type": "code",
   "execution_count": 3,
   "metadata": {
    "pycharm": {
     "name": "#%%\n"
    }
   },
   "outputs": [
    {
     "data": {
      "text/plain": [
       "(tensor([[ 0.1693,  1.0165],\n",
       "         [-0.1693, -1.0165]], grad_fn=<MmBackward0>),\n",
       " tensor([[1.9397, 2.7305],\n",
       "         [2.7305, 2.5992]], grad_fn=<MmBackward0>))"
      ]
     },
     "execution_count": 3,
     "metadata": {},
     "output_type": "execute_result"
    }
   ],
   "source": [
    "X_new = S.transpose(-1, -2) @ Z\n",
    "A_new = S.transpose(-1, -2) @ A @ S\n",
    "\n",
    "X_new, A_new"
   ]
  },
  {
   "cell_type": "markdown",
   "metadata": {
    "pycharm": {
     "name": "#%% md\n"
    }
   },
   "source": [
    "Finally, we can take a look at the new graph. As already announced, we now have only two nodes that are connected by weighted edges and contain the embeddings from the nodes combined in them representatively in their new embeddings."
   ]
  },
  {
   "cell_type": "code",
   "execution_count": 4,
   "metadata": {
    "pycharm": {
     "name": "#%%\n"
    }
   },
   "outputs": [
    {
     "data": {
      "image/png": "[encoded data removed]",
      "text/plain": [
       "<Figure size 432x288 with 1 Axes>"
      ]
     },
     "metadata": {},
     "output_type": "display_data"
    }
   ],
   "source": [
    "g_new = nx.from_numpy_matrix(A_new.detach().numpy(), create_using=nx.Graph)\n",
    "g_new.remove_edges_from(nx.selfloop_edges(g_new))\n",
    "nx.draw(g_new)\n",
    "plt.show()"
   ]
  },
  {
   "cell_type": "markdown",
   "metadata": {
    "pycharm": {
     "name": "#%% md\n"
    }
   },
   "source": [
    "## Diffpool in practice: Graph classification of the ENZYMES datasets"
   ]
  },
  {
   "cell_type": "code",
   "execution_count": 5,
   "metadata": {
    "pycharm": {
     "name": "#%%\n"
    }
   },
   "outputs": [
    {
     "name": "stdout",
     "output_type": "stream",
     "text": [
      "Downloading /home/kinaan/.dgl/PTC_FM.zip from https://www.chrsmrrs.com/graphkerneldatasets/PTC_FM.zip...\n",
      "Extracting file to /home/kinaan/.dgl/PTC_FM\n",
      "No Node Attribute Data\n"
     ]
    }
   ],
   "source": [
    "import dgl\n",
    "import torch.nn.functional as F\n",
    "from dgl.data import tu\n",
    "import torch.utils.data\n",
    "\n",
    "dataset = tu.LegacyTUDataset(name=\"PTC_FM\")\n",
    "train_size = int(0.7 * len(dataset))\n",
    "test_size = int(0.1 * len(dataset))\n",
    "val_size = int(len(dataset) - train_size - test_size)\n",
    "\n",
    "batch_size = 20\n",
    "\n",
    "dataset_train, dataset_val, dataset_test = torch.utils.data.random_split(\n",
    "    dataset, (train_size, val_size, test_size))\n",
    "train_dataloader = dgl.dataloading.GraphDataLoader(dataset_train, batch_size=batch_size)\n",
    "val_dataloader = dgl.dataloading.GraphDataLoader(dataset_val, batch_size=batch_size)\n",
    "test_dataloader = dgl.dataloading.GraphDataLoader(dataset_test, batch_size=batch_size)\n",
    "\n",
    "input_dim, label_dim, max_num_node = dataset.statistics()"
   ]
  },
  {
   "cell_type": "code",
   "execution_count": 6,
   "metadata": {
    "pycharm": {
     "name": "#%%\n"
    }
   },
   "outputs": [],
   "source": [
    "hidden_dim = 64\n",
    "embedding_dim = 64\n",
    "pool_ratio = 0.25\n",
    "\n",
    "assign_dim = int(max_num_node * pool_ratio)\n",
    "activation = F.relu"
   ]
  },
  {
   "cell_type": "code",
   "execution_count": 7,
   "metadata": {
    "pycharm": {
     "name": "#%%\n"
    }
   },
   "outputs": [],
   "source": [
    "from dgl_layers.model import DiffPool\n",
    "\n",
    "model = DiffPool(input_dim, label_dim, max_num_node)"
   ]
  },
  {
   "cell_type": "code",
   "execution_count": 8,
   "metadata": {
    "pycharm": {
     "is_executing": true,
     "name": "#%%\n"
    }
   },
   "outputs": [
    {
     "ename": "AttributeError",
     "evalue": "'list' object has no attribute 'x'",
     "output_type": "error",
     "traceback": [
      "\u001b[0;31m---------------------------------------------------------------------------\u001b[0m",
      "\u001b[0;31mAttributeError\u001b[0m                            Traceback (most recent call last)",
      "Input \u001b[0;32mIn [8]\u001b[0m, in \u001b[0;36m<cell line: 30>\u001b[0;34m()\u001b[0m\n\u001b[1;32m     29\u001b[0m best_val_acc \u001b[38;5;241m=\u001b[39m test_acc \u001b[38;5;241m=\u001b[39m \u001b[38;5;241m0\u001b[39m\n\u001b[1;32m     30\u001b[0m \u001b[38;5;28;01mfor\u001b[39;00m epoch \u001b[38;5;129;01min\u001b[39;00m \u001b[38;5;28mrange\u001b[39m(\u001b[38;5;241m1\u001b[39m, \u001b[38;5;241m151\u001b[39m):\n\u001b[0;32m---> 31\u001b[0m     train_loss \u001b[38;5;241m=\u001b[39m \u001b[43mtrain\u001b[49m\u001b[43m(\u001b[49m\u001b[43mepoch\u001b[49m\u001b[43m)\u001b[49m\n\u001b[1;32m     32\u001b[0m     val_acc \u001b[38;5;241m=\u001b[39m test(val_dataloader)\n\u001b[1;32m     33\u001b[0m     \u001b[38;5;28;01mif\u001b[39;00m val_acc \u001b[38;5;241m>\u001b[39m best_val_acc:\n",
      "Input \u001b[0;32mIn [8]\u001b[0m, in \u001b[0;36mtrain\u001b[0;34m(epoch)\u001b[0m\n\u001b[1;32m      8\u001b[0m \u001b[38;5;28;01mfor\u001b[39;00m data \u001b[38;5;129;01min\u001b[39;00m train_dataloader:\n\u001b[1;32m      9\u001b[0m     optimizer\u001b[38;5;241m.\u001b[39mzero_grad()\n\u001b[0;32m---> 10\u001b[0m     output, _, _ \u001b[38;5;241m=\u001b[39m model(\u001b[43mdata\u001b[49m\u001b[38;5;241;43m.\u001b[39;49m\u001b[43mx\u001b[49m, data\u001b[38;5;241m.\u001b[39madj, data\u001b[38;5;241m.\u001b[39mmask)\n\u001b[1;32m     11\u001b[0m     loss \u001b[38;5;241m=\u001b[39m F\u001b[38;5;241m.\u001b[39mnll_loss(output, data\u001b[38;5;241m.\u001b[39my\u001b[38;5;241m.\u001b[39mview(\u001b[38;5;241m-\u001b[39m\u001b[38;5;241m1\u001b[39m))\n\u001b[1;32m     12\u001b[0m     loss\u001b[38;5;241m.\u001b[39mbackward()\n",
      "\u001b[0;31mAttributeError\u001b[0m: 'list' object has no attribute 'x'"
     ]
    }
   ],
   "source": [
    "optimizer = torch.optim.Adam(model.parameters(), lr=0.001)\n",
    "\n",
    "\n",
    "def train(epoch):\n",
    "    model.train()\n",
    "    loss_all = 0\n",
    "\n",
    "    for data in train_dataloader:\n",
    "        optimizer.zero_grad()\n",
    "        output, _, _ = model(data.x, data.adj, data.mask)\n",
    "        loss = F.nll_loss(output, data.y.view(-1))\n",
    "        loss.backward()\n",
    "        loss_all += data.y.size(0) * float(loss)\n",
    "        optimizer.step()\n",
    "    return loss_all / len(dataset_train)\n",
    "\n",
    "\n",
    "@torch.no_grad()\n",
    "def test(loader):\n",
    "    model.eval()\n",
    "    correct = 0\n",
    "\n",
    "    for data in loader:\n",
    "        pred = model(data.x, data.adj, data.mask)[0].max(dim=1)[1]\n",
    "        correct += int(pred.eq(data.y.view(-1)).sum())\n",
    "    return correct / len(loader.dataset)\n",
    "\n",
    "\n",
    "best_val_acc = test_acc = 0\n",
    "for epoch in range(1, 151):\n",
    "    train_loss = train(epoch)\n",
    "    val_acc = test(val_dataloader)\n",
    "    if val_acc > best_val_acc:\n",
    "        test_acc = test(test_dataloader)\n",
    "        best_val_acc = val_acc\n",
    "    print(f'Epoch: {epoch:03d}, Train Loss: {train_loss:.4f}, '\n",
    "          f'Val Acc: {val_acc:.4f}, Test Acc: {test_acc:.4f}')"
   ]
  },
  {
   "cell_type": "code",
   "execution_count": null,
   "metadata": {},
   "outputs": [],
   "source": []
  }
 ],
 "metadata": {
  "kernelspec": {
   "display_name": "Python 3 (ipykernel)",
   "language": "python",
   "name": "python3"
  },
  "language_info": {
   "codemirror_mode": {
    "name": "ipython",
    "version": 3
   },
   "file_extension": ".py",
   "mimetype": "text/x-python",
   "name": "python",
   "nbconvert_exporter": "python",
   "pygments_lexer": "ipython3",
   "version": "3.9.12"
  }
 },
 "nbformat": 4,
 "nbformat_minor": 4
}
